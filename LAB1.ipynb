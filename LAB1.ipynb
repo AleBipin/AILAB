{
  "nbformat": 4,
  "nbformat_minor": 0,
  "metadata": {
    "colab": {
      "provenance": [],
      "authorship_tag": "ABX9TyNRb3wlFw/uzzwTdB16cKQz",
      "include_colab_link": true
    },
    "kernelspec": {
      "name": "python3",
      "display_name": "Python 3"
    },
    "language_info": {
      "name": "python"
    }
  },
  "cells": [
    {
      "cell_type": "markdown",
      "metadata": {
        "id": "view-in-github",
        "colab_type": "text"
      },
      "source": [
        "<a href=\"https://colab.research.google.com/github/AleBipin/AILAB/blob/main/LAB1.ipynb\" target=\"_parent\"><img src=\"https://colab.research.google.com/assets/colab-badge.svg\" alt=\"Open In Colab\"/></a>"
      ]
    },
    {
      "cell_type": "code",
      "execution_count": 1,
      "metadata": {
        "colab": {
          "base_uri": "https://localhost:8080/"
        },
        "id": "60Llls0SRLHd",
        "outputId": "716a087f-1eb1-4d0b-d00b-1f8825066c4e"
      },
      "outputs": [
        {
          "output_type": "stream",
          "name": "stdout",
          "text": [
            "Enter the lower range: 2\n",
            "Enter the upper range: 10\n",
            "Prime numbers between 2 and 10 are:\n",
            "2\n",
            "3\n",
            "5\n",
            "7\n"
          ]
        }
      ],
      "source": [
        "lower = int(input(\"Enter the lower range: \"))\n",
        "\n",
        "upper = int(input(\"Enter the upper range: \"))\n",
        "\n",
        "print(\"Prime numbers between\", lower, \"and\", upper, \"are:\")\n",
        "\n",
        "for num in range(lower, upper + 1):\n",
        "   # all prime numbers are greater than 1\n",
        "   if num > 1:\n",
        "       for i in range(2, num):\n",
        "           if (num % i) == 0:\n",
        "               break\n",
        "       else:\n",
        "           print(num)"
      ]
    },
    {
      "cell_type": "code",
      "source": [
        "n=int(input(\"Enter the number of terms: \"))\n",
        "a=0\n",
        "b=1\n",
        "if n<=0:\n",
        "    print(\"The Output of your input is\",a)\n",
        "else:\n",
        "    print(a,b,end=\" \")\n",
        "    for x in range(2,n):\n",
        "        c=a+b\n",
        "        print(c,end=\" \")\n",
        "        a=b\n",
        "        b=c"
      ],
      "metadata": {
        "colab": {
          "base_uri": "https://localhost:8080/"
        },
        "id": "AR5gRBNCRQtJ",
        "outputId": "709a939d-5296-4fa8-d74d-5fd14bd85b83"
      },
      "execution_count": 2,
      "outputs": [
        {
          "output_type": "stream",
          "name": "stdout",
          "text": [
            "Enter the number of terms: 5\n",
            "0 1 1 2 3 "
          ]
        }
      ]
    },
    {
      "cell_type": "code",
      "source": [
        "import random\n",
        "\n",
        "def guess_number():\n",
        "    # Generate a random number between 1 and 100\n",
        "    secret_number = random.randint(1, 100)\n",
        "\n",
        "    print(\"Welcome to the Number Guessing Game!\")\n",
        "    print(\"I have chosen a number between 1 and 100. Try to guess it!\")\n",
        "\n",
        "    # Loop until the user guesses the correct number\n",
        "    while True:\n",
        "        try:\n",
        "            # Ask the user to guess a number\n",
        "            guess = int(input(\"Enter your guess: \"))\n",
        "\n",
        "            # Check if the guess is correct\n",
        "            if guess == secret_number:\n",
        "                print(\"Congratulations! You guessed the correct number:\", secret_number)\n",
        "                break\n",
        "            elif guess < secret_number:\n",
        "                print(\"Too low! Try a higher number.\")\n",
        "            else:\n",
        "                print(\"Too high! Try a lower number.\")\n",
        "        except ValueError:\n",
        "            print(\"Please enter a valid number.\")\n",
        "\n",
        "# Start the game\n",
        "guess_number()"
      ],
      "metadata": {
        "colab": {
          "base_uri": "https://localhost:8080/"
        },
        "id": "BAWy1BKMRRAj",
        "outputId": "11674186-5ac3-4e1a-dd1d-babe8671b0f5"
      },
      "execution_count": 6,
      "outputs": [
        {
          "output_type": "stream",
          "name": "stdout",
          "text": [
            "Welcome to the Number Guessing Game!\n",
            "I have chosen a number between 1 and 100. Try to guess it!\n",
            "Enter your guess: 20\n",
            "Too low! Try a higher number.\n",
            "Enter your guess: 40\n",
            "Too low! Try a higher number.\n",
            "Enter your guess: 60\n",
            "Too low! Try a higher number.\n",
            "Enter your guess: 80\n",
            "Too high! Try a lower number.\n",
            "Enter your guess: 70\n",
            "Too low! Try a higher number.\n",
            "Enter your guess: 75\n",
            "Too low! Try a higher number.\n",
            "Enter your guess: 78\n",
            "Congratulations! You guessed the correct number: 78\n"
          ]
        }
      ]
    },
    {
      "cell_type": "code",
      "source": [
        "\n",
        "n=int(input(\"Enter number:\"))\n",
        "temp=n\n",
        "rev=0\n",
        "while(n>0):\n",
        "    dig=n%10\n",
        "    rev=rev*10+dig\n",
        "    n=n//10\n",
        "if(temp==rev):\n",
        "    print(\"The number is a palindrome!\")\n",
        "else:\n",
        "    print(\"The number isn't a palindrome!\")"
      ],
      "metadata": {
        "colab": {
          "base_uri": "https://localhost:8080/"
        },
        "id": "JjCnDydQRRIP",
        "outputId": "c88e8a73-c815-4799-bdf6-b2f1931c0a09"
      },
      "execution_count": 5,
      "outputs": [
        {
          "output_type": "stream",
          "name": "stdout",
          "text": [
            "Enter number:121\n",
            "The number is a palindrome!\n"
          ]
        }
      ]
    }
  ]
}